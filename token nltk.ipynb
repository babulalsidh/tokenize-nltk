{
 "cells": [
  {
   "cell_type": "code",
   "execution_count": 1,
   "id": "f3a06f57-dce7-4da9-b4d5-914a8abc0706",
   "metadata": {},
   "outputs": [],
   "source": [
    "import nltk"
   ]
  },
  {
   "cell_type": "markdown",
   "id": "d112cd2d-65d9-4127-a321-a40a6bd661dc",
   "metadata": {},
   "source": [
    "from nltk.tokenize import word_tokenize"
   ]
  },
  {
   "cell_type": "code",
   "execution_count": 2,
   "id": "f0c279ac-754b-4321-9399-bc671ec9a22b",
   "metadata": {},
   "outputs": [],
   "source": [
    "from nltk.tokenize import word_tokenize"
   ]
  },
  {
   "cell_type": "code",
   "execution_count": 3,
   "id": "88680f98-514c-42b2-887c-db5c649ad165",
   "metadata": {},
   "outputs": [
    {
     "name": "stderr",
     "output_type": "stream",
     "text": [
      "[nltk_data] Downloading package punkt to\n",
      "[nltk_data]     C:\\Users\\babul\\AppData\\Roaming\\nltk_data...\n",
      "[nltk_data]   Package punkt is already up-to-date!\n"
     ]
    },
    {
     "data": {
      "text/plain": [
       "True"
      ]
     },
     "execution_count": 3,
     "metadata": {},
     "output_type": "execute_result"
    }
   ],
   "source": [
    "nltk.download('punkt')"
   ]
  },
  {
   "cell_type": "code",
   "execution_count": 4,
   "id": "d0e063bb-911c-495e-af15-d5d34c9a1374",
   "metadata": {},
   "outputs": [],
   "source": [
    "mystr = \"I am studying nlp, it exciting\""
   ]
  },
  {
   "cell_type": "code",
   "execution_count": 19,
   "id": "29e969a6-18d1-4dd7-b4f7-b89e85621d7b",
   "metadata": {},
   "outputs": [
    {
     "data": {
      "text/plain": [
       "['I', 'am', 'studying', 'nlp,', 'it', 'exciting']"
      ]
     },
     "execution_count": 19,
     "metadata": {},
     "output_type": "execute_result"
    }
   ],
   "source": [
    "mystr.split()"
   ]
  },
  {
   "cell_type": "code",
   "execution_count": 26,
   "id": "a9e2f188-e546-45a5-81c4-4d232afff8c4",
   "metadata": {},
   "outputs": [
    {
     "name": "stdout",
     "output_type": "stream",
     "text": [
      "I\n",
      " \n",
      "a\n",
      "m\n",
      " \n",
      "s\n",
      "t\n",
      "u\n",
      "d\n",
      "y\n",
      "i\n",
      "n\n",
      "g\n",
      " \n",
      "n\n",
      "l\n",
      "p\n",
      ",\n",
      " \n",
      "i\n",
      "t\n",
      " \n",
      "e\n",
      "x\n",
      "c\n",
      "i\n",
      "t\n",
      "i\n",
      "n\n",
      "g\n"
     ]
    }
   ],
   "source": [
    "for mystr in mystr:\n",
    "    print(mystr)"
   ]
  },
  {
   "cell_type": "code",
   "execution_count": 10,
   "id": "d6fc8dba-f45d-4177-8379-37b478456d45",
   "metadata": {},
   "outputs": [
    {
     "data": {
      "text/plain": [
       "['I', 'am', 'studying', 'nlp,', 'it', 'exciting']"
      ]
     },
     "execution_count": 10,
     "metadata": {},
     "output_type": "execute_result"
    }
   ],
   "source": [
    "mystr.split()"
   ]
  },
  {
   "cell_type": "code",
   "execution_count": null,
   "id": "eb22dec5-4c2c-40d7-a0bd-9e421d3aca7e",
   "metadata": {},
   "outputs": [],
   "source": []
  }
 ],
 "metadata": {
  "kernelspec": {
   "display_name": "Python 3 (ipykernel)",
   "language": "python",
   "name": "python3"
  },
  "language_info": {
   "codemirror_mode": {
    "name": "ipython",
    "version": 3
   },
   "file_extension": ".py",
   "mimetype": "text/x-python",
   "name": "python",
   "nbconvert_exporter": "python",
   "pygments_lexer": "ipython3",
   "version": "3.13.5"
  }
 },
 "nbformat": 4,
 "nbformat_minor": 5
}
